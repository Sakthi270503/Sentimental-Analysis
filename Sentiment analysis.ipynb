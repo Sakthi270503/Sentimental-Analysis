{
 "cells": [
  {
   "cell_type": "code",
   "execution_count": 1,
   "id": "5e5a4eaa",
   "metadata": {},
   "outputs": [
    {
     "name": "stdout",
     "output_type": "stream",
     "text": [
      "Requirement already satisfied: nltk in c:\\programdata\\anaconda3\\lib\\site-packages (3.8.1)\n",
      "Requirement already satisfied: click in c:\\programdata\\anaconda3\\lib\\site-packages (from nltk) (8.0.4)\n",
      "Requirement already satisfied: joblib in c:\\programdata\\anaconda3\\lib\\site-packages (from nltk) (1.2.0)\n",
      "Requirement already satisfied: regex>=2021.8.3 in c:\\programdata\\anaconda3\\lib\\site-packages (from nltk) (2022.7.9)\n",
      "Requirement already satisfied: tqdm in c:\\programdata\\anaconda3\\lib\\site-packages (from nltk) (4.65.0)\n",
      "Requirement already satisfied: colorama in c:\\programdata\\anaconda3\\lib\\site-packages (from click->nltk) (0.4.6)\n",
      "Note: you may need to restart the kernel to use updated packages.\n"
     ]
    }
   ],
   "source": [
    "pip install nltk\n"
   ]
  },
  {
   "cell_type": "code",
   "execution_count": 1,
   "id": "a7c36b05",
   "metadata": {},
   "outputs": [
    {
     "name": "stderr",
     "output_type": "stream",
     "text": [
      "[nltk_data] Downloading package movie_reviews to C:\\Users\\Sakthi\n",
      "[nltk_data]     Murugan V\\AppData\\Roaming\\nltk_data...\n",
      "[nltk_data]   Unzipping corpora\\movie_reviews.zip.\n"
     ]
    },
    {
     "data": {
      "text/plain": [
       "True"
      ]
     },
     "execution_count": 1,
     "metadata": {},
     "output_type": "execute_result"
    }
   ],
   "source": [
    "import nltk\n",
    "nltk.download('movie_reviews')\n"
   ]
  },
  {
   "cell_type": "code",
   "execution_count": 2,
   "id": "2d475fff",
   "metadata": {},
   "outputs": [
    {
     "name": "stderr",
     "output_type": "stream",
     "text": [
      "[nltk_data] Downloading package punkt to C:\\Users\\Sakthi Murugan\n",
      "[nltk_data]     V\\AppData\\Roaming\\nltk_data...\n",
      "[nltk_data]   Unzipping tokenizers\\punkt.zip.\n",
      "[nltk_data] Downloading package stopwords to C:\\Users\\Sakthi Murugan\n",
      "[nltk_data]     V\\AppData\\Roaming\\nltk_data...\n",
      "[nltk_data]   Unzipping corpora\\stopwords.zip.\n"
     ]
    },
    {
     "name": "stdout",
     "output_type": "stream",
     "text": [
      "Original Review:\n",
      "plot : two teen couples go to a church party , drink and then drive . \n",
      "they get into an accident . \n",
      "one of the guys dies , but his girlfriend continues to see him in her life , and has nightmares . \n",
      "w\n",
      "\n",
      "Preprocessed Review:\n",
      "plot two teen coupl go church parti drink drive get accid one guy die girlfriend continu see life nightmar 's deal watch movi `` sorta `` find critiqu mind-fuck movi teen gener touch cool idea present bad packag make review even harder one write sinc gener applaud film attempt break mold mess head lost highway memento good bad way make type film folk n't snag one correctli seem taken pretti neat concept execut terribl problem movi well main problem 's simpli jumbl start `` normal `` downshift `` fantasi `` world audienc member idea 's go dream charact come back dead other look like dead strang apparit disappear looooot chase scene ton weird thing happen simpli explain person n't mind tri unravel film everi give clue get kind fed film 's biggest problem 's obvious got big secret hide seem want hide complet final five minut make thing entertain thrill even engag meantim realli sad part arrow dig flick like actual figur half-way point strang start make littl bit sens still n't make film entertain guess bottom line movi like alway make sure audienc `` `` even given secret password enter world understand mean show melissa sagemil run away vision 20 minut throughout movi plain lazi okay get peopl chase n't know realli need see give us differ scene offer insight strang go movi appar studio took film away director chop show might 've pretti decent teen mind-fuck movi somewher guess `` suit `` decid turn music video littl edg would make sens actor pretti good part although we bentley seem play exact charact american beauti new neighborhood biggest kudo go sagemil hold throughout entir film actual feel charact 's unravel overal film n't stick n't entertain 's confus rare excit feel pretti redund runtim despit pretti cool end explan crazi came oh way horror teen slasher flick 's packag look way someon appar assum genr still hot kid also wrap product two year ago sit shelv ever sinc whatev skip 's joblo come nightmar elm street 3 7/10 blair witch 2 7/10 crow 9/10 crow salvat 4/10 lost highway 10/10 memento 10/10 other 9/10 stir echo 8/10\n"
     ]
    }
   ],
   "source": [
    "import nltk\n",
    "from nltk.corpus import movie_reviews\n",
    "from nltk.tokenize import word_tokenize\n",
    "from nltk.corpus import stopwords\n",
    "from nltk.stem import PorterStemmer\n",
    "import string\n",
    "\n",
    "# Download NLTK resources if not already downloaded\n",
    "nltk.download('punkt')\n",
    "nltk.download('stopwords')\n",
    "\n",
    "# Load the movie reviews dataset\n",
    "reviews = [(movie_reviews.raw(fileid), category)\n",
    "           for category in movie_reviews.categories()\n",
    "           for fileid in movie_reviews.fileids(category)]\n",
    "\n",
    "# Preprocessing function\n",
    "def preprocess_text(text):\n",
    "    # Tokenization\n",
    "    tokens = word_tokenize(text)\n",
    "    \n",
    "    # Lowercasing\n",
    "    tokens = [token.lower() for token in tokens]\n",
    "    \n",
    "    # Removing punctuation and special characters\n",
    "    tokens = [token for token in tokens if token not in string.punctuation]\n",
    "    \n",
    "    # Removing stopwords\n",
    "    stop_words = set(stopwords.words('english'))\n",
    "    tokens = [token for token in tokens if token not in stop_words]\n",
    "    \n",
    "    # Stemming\n",
    "    porter = PorterStemmer()\n",
    "    tokens = [porter.stem(token) for token in tokens]\n",
    "    \n",
    "    # Join tokens back into a string\n",
    "    preprocessed_text = ' '.join(tokens)\n",
    "    \n",
    "    return preprocessed_text\n",
    "\n",
    "# Example of preprocessing a single review\n",
    "sample_review = reviews[0][0]  # Selecting the first review\n",
    "preprocessed_review = preprocess_text(sample_review)\n",
    "print(\"Original Review:\")\n",
    "print(sample_review[:200])  # Print the first 200 characters of the original review\n",
    "print(\"\\nPreprocessed Review:\")\n",
    "print(preprocessed_review)\n"
   ]
  },
  {
   "cell_type": "code",
   "execution_count": 3,
   "id": "e31d036f",
   "metadata": {},
   "outputs": [
    {
     "name": "stdout",
     "output_type": "stream",
     "text": [
      "Preprocessed Review:\n",
      "plot two teen coupl go church parti drink drive get accid one guy die girlfriend continu see life nightmar 's deal watch movi `` sorta `` find critiqu mind-fuck movi teen gener touch cool idea present bad packag make review even harder one write sinc gener applaud film attempt break mold mess head lost highway memento good bad way make type film folk n't snag one correctli seem taken pretti neat concept execut terribl problem movi well main problem 's simpli jumbl start `` normal `` downshift `` fantasi `` world audienc member idea 's go dream charact come back dead other look like dead strang apparit disappear looooot chase scene ton weird thing happen simpli explain person n't mind tri unravel film everi give clue get kind fed film 's biggest problem 's obvious got big secret hide seem want hide complet final five minut make thing entertain thrill even engag meantim realli sad part arrow dig flick like actual figur half-way point strang start make littl bit sens still n't make film entertain guess bottom line movi like alway make sure audienc `` `` even given secret password enter world understand mean show melissa sagemil run away vision 20 minut throughout movi plain lazi okay get peopl chase n't know realli need see give us differ scene offer insight strang go movi appar studio took film away director chop show might 've pretti decent teen mind-fuck movi somewher guess `` suit `` decid turn music video littl edg would make sens actor pretti good part although we bentley seem play exact charact american beauti new neighborhood biggest kudo go sagemil hold throughout entir film actual feel charact 's unravel overal film n't stick n't entertain 's confus rare excit feel pretti redund runtim despit pretti cool end explan crazi came oh way horror teen slasher flick 's packag look way someon appar assum genr still hot kid also wrap product two year ago sit shelv ever sinc whatev skip 's joblo come nightmar elm street 3 7/10 blair witch 2 7/10 crow 9/10 crow salvat 4/10 lost highway 10/10 memento 10/10 other 9/10 stir echo 8/10\n",
      "\n",
      "Number of Preprocessed Reviews: 2000\n"
     ]
    }
   ],
   "source": [
    "# Preprocess the entire dataset\n",
    "preprocessed_reviews = [(preprocess_text(review), label) for review, label in reviews]\n",
    "\n",
    "# Print the first preprocessed review as an example\n",
    "print(\"Preprocessed Review:\")\n",
    "print(preprocessed_reviews[0][0])\n",
    "\n",
    "# Check the length of the preprocessed dataset\n",
    "print(\"\\nNumber of Preprocessed Reviews:\", len(preprocessed_reviews))\n"
   ]
  },
  {
   "cell_type": "code",
   "execution_count": 4,
   "id": "e5c9e336",
   "metadata": {},
   "outputs": [
    {
     "name": "stdout",
     "output_type": "stream",
     "text": [
      "Shape of X_train_tfidf: (1600, 5000)\n",
      "Shape of X_test_tfidf: (400, 5000)\n"
     ]
    }
   ],
   "source": [
    "from sklearn.feature_extraction.text import TfidfVectorizer\n",
    "from sklearn.model_selection import train_test_split\n",
    "\n",
    "# Separate the preprocessed text and labels\n",
    "X = [review for review, _ in preprocessed_reviews]\n",
    "y = [label for _, label in preprocessed_reviews]\n",
    "\n",
    "# Split the dataset into training and testing sets\n",
    "X_train, X_test, y_train, y_test = train_test_split(X, y, test_size=0.2, random_state=42)\n",
    "\n",
    "# Initialize the TF-IDF vectorizer\n",
    "tfidf_vectorizer = TfidfVectorizer(max_features=5000)  # Limit the number of features to 5000\n",
    "\n",
    "# Fit and transform the training data\n",
    "X_train_tfidf = tfidf_vectorizer.fit_transform(X_train)\n",
    "\n",
    "# Transform the testing data\n",
    "X_test_tfidf = tfidf_vectorizer.transform(X_test)\n",
    "\n",
    "# Check the shape of the transformed data\n",
    "print(\"Shape of X_train_tfidf:\", X_train_tfidf.shape)\n",
    "print(\"Shape of X_test_tfidf:\", X_test_tfidf.shape)\n"
   ]
  },
  {
   "cell_type": "code",
   "execution_count": 5,
   "id": "219a99af",
   "metadata": {},
   "outputs": [
    {
     "name": "stdout",
     "output_type": "stream",
     "text": [
      "Accuracy: 0.8075\n",
      "\n",
      "Classification Report:\n",
      "              precision    recall  f1-score   support\n",
      "\n",
      "         neg       0.81      0.80      0.81       199\n",
      "         pos       0.81      0.81      0.81       201\n",
      "\n",
      "    accuracy                           0.81       400\n",
      "   macro avg       0.81      0.81      0.81       400\n",
      "weighted avg       0.81      0.81      0.81       400\n",
      "\n"
     ]
    }
   ],
   "source": [
    "from sklearn.linear_model import LogisticRegression\n",
    "from sklearn.metrics import accuracy_score, classification_report\n",
    "\n",
    "# Initialize the Logistic Regression model\n",
    "logistic_regression_model = LogisticRegression(max_iter=1000)\n",
    "\n",
    "# Train the model\n",
    "logistic_regression_model.fit(X_train_tfidf, y_train)\n",
    "\n",
    "# Predictions on the testing set\n",
    "y_pred = logistic_regression_model.predict(X_test_tfidf)\n",
    "\n",
    "# Evaluate the model\n",
    "accuracy = accuracy_score(y_test, y_pred)\n",
    "print(\"Accuracy:\", accuracy)\n",
    "\n",
    "# Classification report\n",
    "print(\"\\nClassification Report:\")\n",
    "print(classification_report(y_test, y_pred))\n"
   ]
  },
  {
   "cell_type": "code",
   "execution_count": 6,
   "id": "44677af4",
   "metadata": {},
   "outputs": [
    {
     "name": "stdout",
     "output_type": "stream",
     "text": [
      "Best Hyperparameters: {'C': 100, 'max_iter': 100}\n",
      "\n",
      "Accuracy: 0.83\n",
      "\n",
      "Classification Report:\n",
      "              precision    recall  f1-score   support\n",
      "\n",
      "         neg       0.84      0.82      0.83       199\n",
      "         pos       0.82      0.84      0.83       201\n",
      "\n",
      "    accuracy                           0.83       400\n",
      "   macro avg       0.83      0.83      0.83       400\n",
      "weighted avg       0.83      0.83      0.83       400\n",
      "\n"
     ]
    }
   ],
   "source": [
    "from sklearn.model_selection import GridSearchCV\n",
    "\n",
    "# Define the hyperparameters grid\n",
    "param_grid = {\n",
    "    'C': [0.01, 0.1, 1, 10, 100],  # Regularization parameter\n",
    "    'max_iter': [100, 500, 1000],   # Maximum number of iterations\n",
    "}\n",
    "\n",
    "# Initialize the Logistic Regression model\n",
    "logistic_regression_model = LogisticRegression()\n",
    "\n",
    "# Initialize GridSearchCV\n",
    "grid_search = GridSearchCV(estimator=logistic_regression_model, param_grid=param_grid, cv=5, n_jobs=-1)\n",
    "\n",
    "# Perform GridSearchCV\n",
    "grid_search.fit(X_train_tfidf, y_train)\n",
    "\n",
    "# Get the best hyperparameters\n",
    "best_params = grid_search.best_params_\n",
    "print(\"Best Hyperparameters:\", best_params)\n",
    "\n",
    "# Evaluate the model with the best hyperparameters\n",
    "best_model = grid_search.best_estimator_\n",
    "y_pred = best_model.predict(X_test_tfidf)\n",
    "\n",
    "# Print classification report and accuracy\n",
    "accuracy = accuracy_score(y_test, y_pred)\n",
    "print(\"\\nAccuracy:\", accuracy)\n",
    "print(\"\\nClassification Report:\")\n",
    "print(classification_report(y_test, y_pred))\n"
   ]
  },
  {
   "cell_type": "code",
   "execution_count": 7,
   "id": "0d7509af",
   "metadata": {},
   "outputs": [
    {
     "name": "stdout",
     "output_type": "stream",
     "text": [
      "Model saved to sentiment_analysis_model.joblib\n"
     ]
    }
   ],
   "source": [
    "from joblib import dump\n",
    "\n",
    "# Save the best model to a file\n",
    "model_filename = 'sentiment_analysis_model.joblib'\n",
    "dump(best_model, model_filename)\n",
    "\n",
    "print(\"Model saved to\", model_filename)\n"
   ]
  },
  {
   "cell_type": "code",
   "execution_count": 8,
   "id": "69e81ac4",
   "metadata": {},
   "outputs": [
    {
     "name": "stdout",
     "output_type": "stream",
     "text": [
      "Predicted sentiment: ['neg']\n"
     ]
    }
   ],
   "source": [
    "from joblib import load\n",
    "\n",
    "# Load the model from the file\n",
    "loaded_model = load('sentiment_analysis_model.joblib')\n",
    "\n",
    "# Make predictions using the loaded model\n",
    "new_text = [\"This movie was fantastic! Highly recommended.\"]\n",
    "predicted_sentiment = loaded_model.predict(tfidf_vectorizer.transform(new_text))\n",
    "\n",
    "print(\"Predicted sentiment:\", predicted_sentiment)\n"
   ]
  },
  {
   "cell_type": "code",
   "execution_count": 9,
   "id": "b3790b62",
   "metadata": {},
   "outputs": [
    {
     "name": "stdout",
     "output_type": "stream",
     "text": [
      "Misclassified Examples:\n",
      "True Label: neg\n",
      "Predicted Label: pos\n",
      "Review: `` 44 calib killer struck `` star john leguizamo mira sorvino adrian brodi jennif esposito michael rispoli bebe neuwirth rate r summer sam rememb wast spike lee 's abil lee great filmmak often exhibit\n",
      "\n",
      "True Label: neg\n",
      "Predicted Label: pos\n",
      "Review: synopsi maniac craze virul microphag slaughter twenti peopl includ street gang heavily-arm troop small knife even handgun howev ca n't take two cop despit shot one total seven time comment notabl aspe\n",
      "\n",
      "True Label: pos\n",
      "Predicted Label: neg\n",
      "Review: muppet movi first best movi among ever-grow list muppet movi muppet movi tell stori hero kermit frog came star delight movi age muppet movi burst cameo appear countless hollywood star 80 's today mupp\n",
      "\n",
      "True Label: pos\n",
      "Predicted Label: neg\n",
      "Review: plot human space astronaut accident fall upon planet rule ape taken prison along human tri best escap simian captor oh yeah mention ape talk kewl critiqu despit film look like `` tim burton movi `` le\n",
      "\n",
      "True Label: neg\n",
      "Predicted Label: pos\n",
      "Review: `` name jack carter n't want know `` say brood anti-hero sylvest stallon take advic know guy reward thrown terrac watch film almost pain `` get carter `` gloomi look unimagin film offer joy jack carte\n",
      "\n"
     ]
    }
   ],
   "source": [
    "# Find misclassified examples\n",
    "misclassified_indices = [i for i, (true_label, predicted_label) in enumerate(zip(y_test, y_pred)) if true_label != predicted_label]\n",
    "\n",
    "# Print a few misclassified examples\n",
    "print(\"Misclassified Examples:\")\n",
    "for idx in misclassified_indices[:5]:\n",
    "    print(\"True Label:\", y_test[idx])\n",
    "    print(\"Predicted Label:\", y_pred[idx])\n",
    "    print(\"Review:\", X_test[idx][:200])  # Print the first 200 characters of the review\n",
    "    print()\n"
   ]
  },
  {
   "cell_type": "code",
   "execution_count": 10,
   "id": "982bf84c",
   "metadata": {},
   "outputs": [
    {
     "name": "stdout",
     "output_type": "stream",
     "text": [
      "Best Hyperparameters: {'C': 100, 'max_iter': 100}\n",
      "Accuracy: 0.83\n",
      "\n",
      "Classification Report:\n",
      "              precision    recall  f1-score   support\n",
      "\n",
      "         neg       0.84      0.82      0.83       199\n",
      "         pos       0.82      0.84      0.83       201\n",
      "\n",
      "    accuracy                           0.83       400\n",
      "   macro avg       0.83      0.83      0.83       400\n",
      "weighted avg       0.83      0.83      0.83       400\n",
      "\n"
     ]
    }
   ],
   "source": [
    "from sklearn.model_selection import GridSearchCV\n",
    "from sklearn.linear_model import LogisticRegression\n",
    "\n",
    "# Define hyperparameter grid\n",
    "param_grid = {\n",
    "    'C': [0.001, 0.01, 0.1, 1, 10, 100],\n",
    "    'max_iter': [100, 200, 300, 400, 500]\n",
    "}\n",
    "\n",
    "# Initialize logistic regression model\n",
    "logistic_regression_model = LogisticRegression()\n",
    "\n",
    "# Initialize grid search cross-validation\n",
    "grid_search = GridSearchCV(estimator=logistic_regression_model, param_grid=param_grid, cv=5, n_jobs=-1)\n",
    "\n",
    "# Perform grid search\n",
    "grid_search.fit(X_train_tfidf, y_train)\n",
    "\n",
    "# Get best hyperparameters\n",
    "best_params = grid_search.best_params_\n",
    "print(\"Best Hyperparameters:\", best_params)\n",
    "\n",
    "# Evaluate model with best hyperparameters\n",
    "best_model = grid_search.best_estimator_\n",
    "y_pred = best_model.predict(X_test_tfidf)\n",
    "\n",
    "# Evaluate performance\n",
    "accuracy = accuracy_score(y_test, y_pred)\n",
    "print(\"Accuracy:\", accuracy)\n",
    "print(\"\\nClassification Report:\")\n",
    "print(classification_report(y_test, y_pred))\n"
   ]
  },
  {
   "cell_type": "code",
   "execution_count": 11,
   "id": "01b72d06",
   "metadata": {},
   "outputs": [
    {
     "data": {
      "image/png": "[encoded data removed]",
      "text/plain": [
       "<Figure size 800x600 with 2 Axes>"
      ]
     },
     "metadata": {},
     "output_type": "display_data"
    }
   ],
   "source": [
    "import matplotlib.pyplot as plt\n",
    "import seaborn as sns\n",
    "from sklearn.metrics import confusion_matrix\n",
    "\n",
    "# Compute confusion matrix\n",
    "conf_matrix = confusion_matrix(y_test, y_pred)\n",
    "\n",
    "# Plot confusion matrix\n",
    "plt.figure(figsize=(8, 6))\n",
    "sns.heatmap(conf_matrix, annot=True, fmt=\"d\", cmap=\"Blues\", xticklabels=[\"neg\", \"pos\"], yticklabels=[\"neg\", \"pos\"])\n",
    "plt.title(\"Confusion Matrix\")\n",
    "plt.xlabel(\"Predicted Label\")\n",
    "plt.ylabel(\"True Label\")\n",
    "plt.show()\n"
   ]
  },
  {
   "cell_type": "code",
   "execution_count": null,
   "id": "52598f3a",
   "metadata": {},
   "outputs": [],
   "source": []
  }
 ],
 "metadata": {
  "kernelspec": {
   "display_name": "Python 3 (ipykernel)",
   "language": "python",
   "name": "python3"
  },
  "language_info": {
   "codemirror_mode": {
    "name": "ipython",
    "version": 3
   },
   "file_extension": ".py",
   "mimetype": "text/x-python",
   "name": "python",
   "nbconvert_exporter": "python",
   "pygments_lexer": "ipython3",
   "version": "3.11.5"
  }
 },
 "nbformat": 4,
 "nbformat_minor": 5
}
